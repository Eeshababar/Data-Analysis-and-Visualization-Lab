{
  "cells": [
    {
      "cell_type": "code",
      "execution_count": null,
      "metadata": {
        "collapsed": true,
        "id": "HeEv1Dv_hYha"
      },
      "outputs": [],
      "source": [
        "import nltk\n",
        "import string\n",
        "\n",
        "# used for looping through folders/files\n",
        "from os import listdir\n",
        "from os.path import isfile, join\n",
        "\n",
        "#Calc tfidf and cosine similarity\n",
        "from sklearn.feature_extraction.text import TfidfVectorizer\n",
        "from sklearn.feature_extraction.text import CountVectorizer\n",
        "from sklearn.metrics.pairwise import cosine_similarity"
      ]
    },
    {
      "cell_type": "code",
      "execution_count": null,
      "metadata": {
        "collapsed": true,
        "id": "t8Dj9PCHhYhd"
      },
      "outputs": [],
      "source": [
        "# All text entries to compare will appear here\n",
        "BASE_INPUT_DIR = \"/content/inputData\""
      ]
    },
    {
      "cell_type": "markdown",
      "metadata": {
        "id": "fdcNprauhYhe"
      },
      "source": [
        "## Preprocess Data"
      ]
    },
    {
      "cell_type": "markdown",
      "metadata": {
        "id": "MCW3zf1whYhf"
      },
      "source": [
        "#### File information"
      ]
    },
    {
      "cell_type": "code",
      "execution_count": null,
      "metadata": {
        "colab": {
          "base_uri": "https://localhost:8080/"
        },
        "id": "0yvHloIZhYhf",
        "outputId": "9043d2b2-9bf1-4b62-e6fd-01a1b42e50e9"
      },
      "outputs": [
        {
          "output_type": "stream",
          "name": "stdout",
          "text": [
            "['f3.txt', 'f1.txt', 'f2.txt'] \n",
            " ['/content/inputData/f3.txt', '/content/inputData/f1.txt', '/content/inputData/f2.txt']\n"
          ]
        }
      ],
      "source": [
        "def returnListOfFilePaths(folderPath):\n",
        "    fileInfo = []\n",
        "    listOfFileNames = [fileName for fileName in listdir(folderPath) if isfile(join(folderPath, fileName))]\n",
        "    listOfFilePaths = [join(folderPath, fileName) for fileName in listdir(folderPath) if isfile(join(folderPath, fileName))]\n",
        "    fileInfo.append(listOfFileNames)\n",
        "    fileInfo.append(listOfFilePaths)\n",
        "    return fileInfo\n",
        "\n",
        "fileNames, filePaths = returnListOfFilePaths(BASE_INPUT_DIR)\n",
        "print(fileNames, \"\\n\", filePaths)"
      ]
    },
    {
      "cell_type": "code",
      "execution_count": null,
      "metadata": {
        "colab": {
          "base_uri": "https://localhost:8080/"
        },
        "id": "FDysT0DZhYhg",
        "outputId": "7f82ed44-3aba-4987-a709-9f27a17a0e30"
      },
      "outputs": [
        {
          "output_type": "stream",
          "name": "stdout",
          "text": [
            "{'/content/inputData/f3.txt': 'Anglo-French Channel Tunnel operator Eurotunnel on Monday announced a deal giving creditor banks 45.5 percent of the company in return for wiping out one billion pounds ($1.56 billion) of its debt mountain.\\nThe long-awaited restructuring brings to an end months of wrangling between Eurotunnel and the 225 banks to which it owes nearly nine billion pounds.\\nThe deal, announced simultaneously in Paris and London, brings the company back from the brink of insolvency but leaves shareholders owning only 54.5 percent of the company.\\n\"The restructuring plan provides Eurotunnel with the medium term financial stability to allow it to consolidate its substantial commercial achievements to date and to develop its operations,\" Eurotunnel co-chairman Alastair Morton said.\\nThe firm was now making a profit before interest, he added.\\nAlthough shareholders will see their interests diluted, they were offered the prospect of a brighter future after months of uncertainty while Eurotunnel wrestled to reduce crippling interest payments negotiated during the tunnel\\'s construction.\\nEurotunnel, which has taken around half the cross-Channel market from the European ferry companies, said a strong operating performance could allow it to pay its first dividend within the next 10 years.\\nFrench co-chairman Patrick Ponsolle said shareholders would have to be patient before they could reap the benefits of the company\\'s success.\\nHe called the debt restructuring plan \"an acceptable compromise\" for holders of Eurotunnel shares.\\nThe company said in a statement there was still considerable work to be done to finalise and agree the details of the plan before it can be submitted to shareholders and the full 225 bank syndicate for approval, probably early in 1997.\\nMonday\\'s announcement followed two weeks of highly secretive negotiations between Eurotunnel and its six leading banks. This was extended to the 24 \"instructing banks\" at a meeting late last week in London.\\nEurotunnel said the debt-for-equity swap would be at 130 pence, or 10.40 francs, per share. That is considerably below the level of around 160 pence widely reported in the run up to the deal, and will reduce outstanding debt of 8.7 billion pounds by 1.0 billion.\\nThe company said a further 3.7 billion pounds of debt would be converted into new financial instruments and existing shareholders would be able to participate in this issue.\\nIf they choose not to take up free warrants entitling them to subscribe to this, Eurotunnel said shareholders\\' interests may be reduced further to just over 39 percent of the company by the end of December 2003.\\nEurotunnel\\'s shares, which were suspended last week at 113.5 pence ahead of Monday\\'s announcement, should resume trading on Tuesday, the company said. ($1=.6393 Pound)\\n', '/content/inputData/f1.txt': 'Channel tunnel operator Eurotunnel on Monday announced details of a deal giving bank creditors 45.5 percent of the company in return for wiping out 1.0 billion pounds ($1.6 billion) of its massive debts.\\nThe long-awaited but highly complex restructuring of nearly nearly nine billion pounds of debt and unpaid interest throws the company a lifeline which could secure what is still likely to be a difficult future.\\nThe deal, announced simultaneously in Paris and London, brings the company back from the brink of bankruptcy but leaves current shareholders, who have already seen their investment dwindle, owning only 54.5 percent of the company.\\n\"We have fixed and capped the interest payments and arranged only to pay what is available in cash,\" Eurotunnel co-chairman Alastair Morton told reporters at a news conference. \"Avoiding having to do this again is the name of the game.\"\\nMorton said the plan provides the Anglo-French company with the medium term financial stability to consolidate its commercial position and develop its operations, adding that the firm was now making a profit before interest.\\nAlthough shareholders will see their holdings diluted, they were offered the prospect of a brighter future and urged to be patient after months of uncertainty while Eurotunnel wrestled to reduce the crippling interest payments negotiated during the tunnel\\'s construction.\\nEurotunnel, which has taken around half of the market in the busiest cross-Channel route from the European ferry companies, said a strong operating performance could allow it to pay its first dividend within the next 10 years.\\nFrench co-chairman Patrick Ponsolle told reporters at a Paris news conference that the dividend could come as early as 2004 if the company performed \"very well\".\\nEurotunnel and the banks have come up with an ingenious formula to help the company get over the early years of the deal when, despite the swaps of debt for equity and bonds, it will still not be able to afford the annual interest bill of 400 million pounds.\\nIf its revenue, after costs and depreciation, is less than 400 million pounds, then the company will issue \"Stabilisation notes\" to a maximum of 1.85 billion pounds to the banks. Eurotunnel would not pay interest on these notes (which would constitute a debt issue) for ten years.\\nAnalysts said that under the deal, Eurotunnel\\'s ability to finance its debt would become sustainable, at least for a few years.\\n\"If you look at the current cash flow of between 150 and 200 million pounds a year, what they can\\'t find (to meet the bill) they will roll forward into the stabilisation notes, and they can keep that going for seven, eight, nine years,\" said an analyst at one major investment bank.\\n\"So they are here for that time,\" he added.\\nThe company said in a statement there was still considerable work to be done to finalise and agree the details of the plan before it can be submitted to shareholders and the bank group for approval, probably early in the Spring of 1997.\\nEurotunnel said the debt-for-equity swap would be at 130 pence, or 10.40 francs, per share -- considerably below the level of 160 pence widely reported in the run up to the deal\\nThe company said a further 3.7 billion pounds of debt would be converted into new financial instruments and existing shareholders would be able to participate in this issue.\\nIf they choose not to take up free warrants entitling them to subscribe to this, Eurotunnel said shareholders\\' interests may be reduced further to just over 39 percent of the company by the end of December 2003.\\nEurotunnel\\'s shares, which were suspended last week at 113.5 pence ahead of Monday\\'s announcement, will resume trading on Tuesday.\\nShareholders and all 225 creditor banks have to agree the deal. \"I\\'m hopeful but I\\'m not taking it (approval) for granted,\" Morton admitted, \"Shareholders are pretty angry in France.\"\\nAsked what would happen if the banks reject the deal, Morton said, \"Nobody wants a collapse, nobody wants a doomsday scenario.\"\\n($1=.6393 Pound)\\n', '/content/inputData/f2.txt': 'Anglo-French Channel Tunnel operator Eurotunnel Monday announced a deal giving its creditor banks 45.5 percent of the company in return for wiping out one billion pounds ($1.56 billion) of its debt.\\nThe long-awaited restructuring brings to an end months of wrangling between Eurotunnel and the 225 banks to which it owes nearly nine billion pounds ($14.1 billion).\\nThe deal, announced simultaneously in Paris and London, brings the company back from the brink of insolvency but leaves shareholders owning only 54.5 percent of the company.\\n\"The restructuring plan provides Eurotunnel with the medium-term financial stability to allow it to consolidate its substantial commercial achievements to date and to develop its operations,\" Eurotunnel co-chairman Alastair Morton said.\\nThe firm was now making a profit before interest, he added.\\nAlthough shareholders will see their interests diluted, they were offered the prospect of a brighter future after months of uncertainty while Eurotunnel wrestled to reduce crippling interest payments negotiated during the tunnel\\'s construction.\\nEurotunnel, which has taken around half the cross-Channel market from the European ferry companies, said a strong operating performance could allow it to pay its first dividend within the next 10 years.\\nFrench co-chairman Patrick Ponsolle said shareholders would have to be patient before they could reap the benefits of the company\\'s success.\\nHe called the debt restructuring plan \"an acceptable compromise\" for holders of Eurotunnel shares.\\nThe company said there was still considerable work to be done to finalise and agree on the details of the plan before it can be submitted to shareholders and the full 225 bank syndicate for approval, probably early in 1997.\\nMonday\\'s announcement followed two weeks of highly secretive negotiations between Eurotunnel and its six leading banks. This was extended to the 24 \"instructing banks\" at a meeting late last week in London.\\nEurotunnel said the debt-for-equity swap would be at 130 pence, or 10.40 francs, per share. That is considerably below the level of around 160 pence widely reported before announcement of the deal, and will reduce outstanding debt of 8.7 billion pounds ($13.6 billion) by 1.0 billion ($1.56 billion).\\nThe company said a further 3.7 billion pounds ($5.8 billion) of debt would be converted into new financial instruments and existing shareholders would be able to participate in this issue.\\nIf they choose not to take up free warrants entitling them to subscribe to this, Eurotunnel said shareholders\\' interests may be reduced further to just over 39 percent of the company by the end of December 2003.\\nEurotunnel\\'s shares, which were suspended last week at 113.5 pence ahead of Monday\\'s announcement, should resume trading on Tuesday, the company said.\\n'}\n"
          ]
        }
      ],
      "source": [
        "# Get document contents\n",
        "def create_docContentDict(filePaths):\n",
        "    rawContentDict = {}\n",
        "    for filePath in filePaths:\n",
        "        with open(filePath, \"r\") as ifile:\n",
        "            fileContent = ifile.read()\n",
        "        rawContentDict[filePath] = fileContent\n",
        "    return rawContentDict\n",
        "rawContentDict = create_docContentDict(filePaths)\n",
        "print(rawContentDict)"
      ]
    },
    {
      "cell_type": "markdown",
      "metadata": {
        "id": "c66aOKvuhYhg"
      },
      "source": [
        "## Create Custom tokenizer"
      ]
    },
    {
      "cell_type": "markdown",
      "metadata": {
        "id": "ko7uHveShYhh"
      },
      "source": [
        "### Define functions to use within the tokenizer\n",
        "We'd like to;\n",
        "- tokenize the input\n",
        "- remove stop words\n",
        "- perform stemming\n",
        "- remove punctuation\n",
        "- convert input to lowercase"
      ]
    },
    {
      "cell_type": "markdown",
      "metadata": {
        "id": "eCM1qtZwhYhh"
      },
      "source": [
        "#### Tokenize"
      ]
    },
    {
      "cell_type": "code",
      "execution_count": null,
      "metadata": {
        "collapsed": true,
        "id": "FtbI-LNvhYhh"
      },
      "outputs": [],
      "source": [
        "def tokenizeContent(contentsRaw):\n",
        "    tokenized = nltk.tokenize.word_tokenize(contentsRaw)\n",
        "    return tokenized"
      ]
    },
    {
      "cell_type": "markdown",
      "metadata": {
        "id": "GHxWgoKyhYhi"
      },
      "source": [
        "#### Remove Stop words"
      ]
    },
    {
      "cell_type": "code",
      "execution_count": null,
      "metadata": {
        "collapsed": true,
        "id": "eWoVWDquhYhi"
      },
      "outputs": [],
      "source": [
        "def removeStopWordsFromTokenized(contentsTokenized):\n",
        "    stop_word_set = set(nltk.corpus.stopwords.words(\"english\"))\n",
        "    filteredContents = [word for word in contentsTokenized if word not in stop_word_set]\n",
        "    return filteredContents"
      ]
    },
    {
      "cell_type": "markdown",
      "metadata": {
        "id": "VeCoyJMxhYhi"
      },
      "source": [
        "#### Stemming"
      ]
    },
    {
      "cell_type": "code",
      "execution_count": null,
      "metadata": {
        "collapsed": true,
        "id": "yTTp1nJNhYhi"
      },
      "outputs": [],
      "source": [
        "def performPorterStemmingOnContents(contentsTokenized):\n",
        "    porterStemmer = nltk.stem.PorterStemmer()\n",
        "    filteredContents = [porterStemmer.stem(word) for word in contentsTokenized]\n",
        "    return filteredContents"
      ]
    },
    {
      "cell_type": "markdown",
      "metadata": {
        "id": "wZvpbe6EhYhi"
      },
      "source": [
        "#### Remove Punctuation"
      ]
    },
    {
      "cell_type": "code",
      "execution_count": null,
      "metadata": {
        "collapsed": true,
        "id": "QLPxbIHthYhi"
      },
      "outputs": [],
      "source": [
        "def removePunctuationFromTokenized(contentsTokenized):\n",
        "    excludePuncuation = set(string.punctuation)\n",
        "\n",
        "    # manually add additional punctuation to remove\n",
        "    doubleSingleQuote = '\\'\\''\n",
        "    doubleDash = '--'\n",
        "    doubleTick = '``'\n",
        "\n",
        "    excludePuncuation.add(doubleSingleQuote)\n",
        "    excludePuncuation.add(doubleDash)\n",
        "    excludePuncuation.add(doubleTick)\n",
        "\n",
        "    filteredContents = [word for word in contentsTokenized if word not in excludePuncuation]\n",
        "    return filteredContents"
      ]
    },
    {
      "cell_type": "markdown",
      "metadata": {
        "id": "OierieOThYhj"
      },
      "source": [
        "#### Convert terms to lowercase"
      ]
    },
    {
      "cell_type": "code",
      "execution_count": null,
      "metadata": {
        "collapsed": true,
        "id": "PT_x0tGnhYhj"
      },
      "outputs": [],
      "source": [
        "def convertItemsToLower(contentsRaw):\n",
        "    filteredContents = [term.lower() for term in contentsRaw]\n",
        "    return filteredContents"
      ]
    },
    {
      "cell_type": "markdown",
      "metadata": {
        "id": "2rXdPEemhYhj"
      },
      "source": [
        "### Test that functions are working as expected"
      ]
    },
    {
      "cell_type": "code",
      "execution_count": null,
      "metadata": {
        "colab": {
          "base_uri": "https://localhost:8080/"
        },
        "id": "_RHJv_onhYhj",
        "outputId": "db7dc12e-5192-4d4b-b29d-68f6da98f9de"
      },
      "outputs": [
        {
          "output_type": "stream",
          "name": "stdout",
          "text": [
            "Anglo-French Channel Tunnel operator Eurotunnel on Monday announced a deal giving creditor banks 45.5 percent of the company in return for wiping out one billion pounds ($1.56 billion) of its debt mountain.\n",
            "The long-awaited restructuring brings to an end months of wrangling between Eurotunnel and th\n"
          ]
        }
      ],
      "source": [
        "# get contents of a file for testing\n",
        "# TODO: may need to make a copy of this here\n",
        "content_test = rawContentDict[filePaths[0]]\n",
        "\n",
        "# visually inspect\n",
        "print(content_test[:300])"
      ]
    },
    {
      "cell_type": "code",
      "source": [
        "nltk.download('punkt')"
      ],
      "metadata": {
        "colab": {
          "base_uri": "https://localhost:8080/"
        },
        "id": "SE6RZ7bzQWNZ",
        "outputId": "c2d4b086-6a8d-490d-845c-1e507c237444"
      },
      "execution_count": null,
      "outputs": [
        {
          "output_type": "stream",
          "name": "stderr",
          "text": [
            "[nltk_data] Downloading package punkt to /root/nltk_data...\n",
            "[nltk_data]   Package punkt is already up-to-date!\n"
          ]
        },
        {
          "output_type": "execute_result",
          "data": {
            "text/plain": [
              "True"
            ]
          },
          "metadata": {},
          "execution_count": 13
        }
      ]
    },
    {
      "cell_type": "code",
      "execution_count": null,
      "metadata": {
        "colab": {
          "base_uri": "https://localhost:8080/"
        },
        "id": "SB06xA4xhYhj",
        "outputId": "9d5039c7-8992-49a7-d9f6-8d02c582b85f"
      },
      "outputs": [
        {
          "output_type": "stream",
          "name": "stdout",
          "text": [
            "['Anglo-French', 'Channel', 'Tunnel', 'operator', 'Eurotunnel', 'on', 'Monday', 'announced', 'a', 'deal', 'giving', 'creditor', 'banks', '45.5', 'percent', 'of', 'the', 'company', 'in', 'return', 'for', 'wiping', 'out', 'one', 'billion', 'pounds', '(', '$', '1.56', 'billion']\n"
          ]
        }
      ],
      "source": [
        "# test tokenization\n",
        "content_test_tokenized = tokenizeContent(content_test)\n",
        "\n",
        "# visually inspect\n",
        "print(content_test_tokenized[:30])"
      ]
    },
    {
      "cell_type": "code",
      "source": [
        "nltk.download('stopwords')"
      ],
      "metadata": {
        "colab": {
          "base_uri": "https://localhost:8080/"
        },
        "id": "IhIcANO_QbhE",
        "outputId": "90c700d7-7a28-4cea-978f-b9456570e6fe"
      },
      "execution_count": null,
      "outputs": [
        {
          "output_type": "stream",
          "name": "stderr",
          "text": [
            "[nltk_data] Downloading package stopwords to /root/nltk_data...\n",
            "[nltk_data]   Unzipping corpora/stopwords.zip.\n"
          ]
        },
        {
          "output_type": "execute_result",
          "data": {
            "text/plain": [
              "True"
            ]
          },
          "metadata": {},
          "execution_count": 16
        }
      ]
    },
    {
      "cell_type": "code",
      "execution_count": null,
      "metadata": {
        "colab": {
          "base_uri": "https://localhost:8080/"
        },
        "id": "CHp4imjBhYhj",
        "outputId": "ba5079a0-35b0-42ed-877a-82481b829511"
      },
      "outputs": [
        {
          "output_type": "stream",
          "name": "stdout",
          "text": [
            "['Anglo-French', 'Channel', 'Tunnel', 'operator', 'Eurotunnel', 'Monday', 'announced', 'deal', 'giving', 'creditor', 'banks', '45.5', 'percent', 'company', 'return', 'wiping', 'one', 'billion', 'pounds', '(', '$', '1.56', 'billion', ')', 'debt', 'mountain', '.', 'The', 'long-awaited', 'restructuring']\n"
          ]
        }
      ],
      "source": [
        "# test remove stop words\n",
        "content_test_rmStop = removeStopWordsFromTokenized(content_test_tokenized)\n",
        "\n",
        "# visually inspect\n",
        "print(content_test_rmStop[:30])"
      ]
    },
    {
      "cell_type": "code",
      "execution_count": null,
      "metadata": {
        "colab": {
          "base_uri": "https://localhost:8080/"
        },
        "id": "W5QZ4jqShYhk",
        "outputId": "3385172e-463d-409d-e3d5-2d1c19b192ba"
      },
      "outputs": [
        {
          "output_type": "stream",
          "name": "stdout",
          "text": [
            "['anglo-french', 'channel', 'tunnel', 'oper', 'eurotunnel', 'monday', 'announc', 'deal', 'give', 'creditor', 'bank', '45.5', 'percent', 'compani', 'return', 'wipe', 'one', 'billion', 'pound', '(', '$', '1.56', 'billion', ')', 'debt', 'mountain', '.', 'the', 'long-await', 'restructur']\n"
          ]
        }
      ],
      "source": [
        "# Test stemming\n",
        "content_test_stemmed = performPorterStemmingOnContents(content_test_rmStop)\n",
        "\n",
        "# visually inspect\n",
        "print(content_test_stemmed[:30])"
      ]
    },
    {
      "cell_type": "code",
      "execution_count": null,
      "metadata": {
        "colab": {
          "base_uri": "https://localhost:8080/"
        },
        "id": "136ECOvehYhk",
        "outputId": "4d49979c-f27f-4a1f-db34-0ff38f6a5cec"
      },
      "outputs": [
        {
          "output_type": "stream",
          "name": "stdout",
          "text": [
            "['anglo-french', 'channel', 'tunnel', 'oper', 'eurotunnel', 'monday', 'announc', 'deal', 'give', 'creditor', 'bank', '45.5', 'percent', 'compani', 'return', 'wipe', 'one', 'billion', 'pound', '1.56', 'billion', 'debt', 'mountain', 'the', 'long-await', 'restructur', 'bring', 'end', 'month', 'wrangl']\n"
          ]
        }
      ],
      "source": [
        "# Test remove punctuation\n",
        "content_test_cleaned = removePunctuationFromTokenized(content_test_stemmed)\n",
        "\n",
        "# visually inspect\n",
        "print(content_test_cleaned[:30])"
      ]
    },
    {
      "cell_type": "code",
      "execution_count": null,
      "metadata": {
        "colab": {
          "base_uri": "https://localhost:8080/"
        },
        "id": "MZMpwXb8hYhk",
        "outputId": "91fbec8f-e362-4c40-b946-09dfdd5f1db2"
      },
      "outputs": [
        {
          "output_type": "stream",
          "name": "stdout",
          "text": [
            "['anglo-french', 'channel', 'tunnel', 'oper', 'eurotunnel', 'monday', 'announc', 'deal', 'give', 'creditor', 'bank', '45.5', 'percent', 'compani', 'return', 'wipe', 'one', 'billion', 'pound', '1.56', 'billion', 'debt', 'mountain', 'the', 'long-await', 'restructur', 'bring', 'end', 'month', 'wrangl']\n"
          ]
        }
      ],
      "source": [
        "# Test convert to lower\n",
        "content_test_clean_lower = convertItemsToLower(content_test_cleaned)\n",
        "print(content_test_clean_lower[:30])"
      ]
    },
    {
      "cell_type": "markdown",
      "metadata": {
        "id": "mahAFoothYhk"
      },
      "source": [
        "### Wrap into a function to be used by NLTK"
      ]
    },
    {
      "cell_type": "code",
      "execution_count": null,
      "metadata": {
        "collapsed": true,
        "id": "bsjN7uhlhYhk"
      },
      "outputs": [],
      "source": [
        "# process data without writing inspection file information to file\n",
        "def processData(rawContents):\n",
        "    cleaned = tokenizeContent(rawContents)\n",
        "    cleaned = removeStopWordsFromTokenized(cleaned)\n",
        "    cleaned = performPorterStemmingOnContents(cleaned)\n",
        "    cleaned = removePunctuationFromTokenized(cleaned)\n",
        "    cleaned = convertItemsToLower(cleaned)\n",
        "    return cleaned"
      ]
    },
    {
      "cell_type": "markdown",
      "metadata": {
        "id": "X8fMWZ0ohYhk"
      },
      "source": [
        "## Create Functions For Output\n",
        "- TFIDF\n",
        "- Cosine Similarity\n",
        "    - this function will both calcuate and output results"
      ]
    },
    {
      "cell_type": "code",
      "execution_count": null,
      "metadata": {
        "collapsed": true,
        "id": "8FEltbj4hYhk"
      },
      "outputs": [],
      "source": [
        "import pandas as pd\n",
        "def print_TFIDF_for_all(terms, values, fileNames):\n",
        "    try:\n",
        "        tfidf_df = pd.DataFrame(values, columns=terms, index=fileNames)\n",
        "        print(\"\\n========TF-IDF Table========\")\n",
        "        print(tfidf_df.to_string())\n",
        "        print(\"============================\\n\")\n",
        "    except ValueError as e:\n",
        "        print(f\"Error while creating DataFrame: {e}\")"
      ]
    },
    {
      "cell_type": "code",
      "execution_count": null,
      "metadata": {
        "collapsed": true,
        "id": "iOHWaZKdhYhl"
      },
      "outputs": [],
      "source": [
        "def write_TFIDF_for_all(terms, values, fileNames, filePath):\n",
        "    tfidf_df = pd.DataFrame(values, columns=fileNames, index=terms)\n",
        "    with open(filePath, 'w') as f:\n",
        "        f.write(\"\\n========TF-IDF Table========\\n\")\n",
        "        f.write(tfidf_df.to_string())\n",
        "        f.write(\"\\n============================\\n\")\n",
        "    print(f\"TF-IDF values written to {filePath}\")"
      ]
    },
    {
      "cell_type": "code",
      "execution_count": null,
      "metadata": {
        "collapsed": true,
        "id": "uBRY9-WphYhl"
      },
      "outputs": [],
      "source": [
        "def calc_and_print_CosineSimilarity_for_all(tfs, fileNames):\n",
        "    cos_sim_matrix = cosine_similarity(tfs)\n",
        "    print(\"\\n\\n\\n========COSINE SIMILARITY====================================================================\\n\")\n",
        "    cos_sim_df = pd.DataFrame(cos_sim_matrix, columns=fileNames, index=fileNames)\n",
        "    print(cos_sim_df.to_string())\n",
        "    print(\"\\n=============================================================================================\\n\")\n"
      ]
    },
    {
      "cell_type": "code",
      "execution_count": null,
      "metadata": {
        "collapsed": true,
        "id": "6_-7YOJjhYhl"
      },
      "outputs": [],
      "source": [
        "def calc_and_write_CosineSimilarity_for_all(tfs, fileNames, filePath):\n",
        "    cos_sim_matrix = cosine_similarity(tfs)\n",
        "    with open(filePath, 'w') as f:\n",
        "        f.write(\"\\n========COSINE SIMILARITY========\\n\")\n",
        "        cos_sim_df = pd.DataFrame(cos_sim_matrix, columns=fileNames, index=fileNames)\n",
        "        f.write(cos_sim_df.to_string())\n",
        "        f.write(\"\\n===============================\\n\")\n",
        "    print(f\"Cosine Similarity values written to {filePath}\")"
      ]
    },
    {
      "cell_type": "markdown",
      "metadata": {
        "id": "OXinQUqGhYhl"
      },
      "source": [
        "## Wrap Everything into `Main()`"
      ]
    },
    {
      "cell_type": "code",
      "execution_count": null,
      "metadata": {
        "collapsed": true,
        "id": "XJUjmis8hYhl"
      },
      "outputs": [],
      "source": [
        "# Print TF-IDF values in 'table' format\n",
        "def main(printResults=True):\n",
        "    baseFolderPath = \"/content/inputData\"\n",
        "    fileNames, filePathList = returnListOfFilePaths(baseFolderPath)\n",
        "\n",
        "    rawContentDict = create_docContentDict(filePathList)\n",
        "\n",
        "    tfidf = TfidfVectorizer(stop_words='english')\n",
        "    tfs = tfidf.fit_transform(rawContentDict.values())\n",
        "    tfs_Values = tfs.toarray()\n",
        "    tfs_Terms = tfidf.get_feature_names_out()\n",
        "    if printResults:\n",
        "\n",
        "        print_TFIDF_for_all(tfs_Terms, tfs_Values, fileNames)\n",
        "        calc_and_print_CosineSimilarity_for_all(tfs, fileNames)\n",
        "    else:\n",
        "\n",
        "        write_TFIDF_for_all(tfs_Terms, tfs_Values, fileNames, \"/content/tfidf_results.txt\")\n",
        "        calc_and_write_CosineSimilarity_for_all(tfs, fileNames, \"/content/cosine_similarity_results.txt\")\n"
      ]
    },
    {
      "cell_type": "code",
      "execution_count": null,
      "metadata": {
        "colab": {
          "base_uri": "https://localhost:8080/"
        },
        "id": "jgJDHKcYhYhl",
        "outputId": "dff5179d-5c19-40fd-cf1c-27a336f16b82"
      },
      "outputs": [
        {
          "output_type": "stream",
          "name": "stdout",
          "text": [
            "\n",
            "========TF-IDF Table========\n",
            "              10       113        13       130        14      150       160      1997      200      2003     2004       225        24        39        40      400        45        54        56      6393       85  ability      able  acceptable  achievements     added   adding  admitted   afford     agree     ahead  alastair     allow  analyst  analysts     anglo    angry  announced  announcement   annual  approval  arranged    asked  available  avoiding   awaited      bank  bankruptcy     banks  benefits   billion    bonds  brighter    brings     brink  busiest    called   capped     cash  chairman   channel    choose  collapse     come  commercial  companies   company  complex  compromise  conference  considerable  considerably  consolidate  constitute  construction  converted    costs  creditor  creditors  crippling     cross  current      date      deal      debt    debts  december  depreciation  despite   details   develop  difficult   diluted  dividend  doomsday  dwindle     early       end  entitling    equity  european  eurotunnel  existing  extended     ferry  finalise  finance  financial      firm    fixed     flow  followed  formula  forward   france    francs      free    french    future     game    giving    going  granted    group      half   happen   having     help    highly   holders  holdings  hopeful  ingenious  insolvency  instructing  instruments  interests  investment     issue      just      late   leading    leaves     level  lifeline   likely    london      long     look    major    making    market  massive  maximum    medium     meet   meeting   million    monday    months    morton  mountain    nearly  negotiated  negotiations       new     news     notes   offered  operating  operations  operator  outstanding      owes    owning     paris  participate   patient   patrick       pay  payments     pence   percent  performance  performed      plan  ponsolle  position     pound    pounds   pretty  probably    profit  prospect  provides      reap    reduce   reduced   reject  reported  reporters  restructuring    resume    return  revenue     roll    route       run      said  scenario  secretive   secure     seen    seven     share  shareholders    shares  simultaneously   spring  stabilisation  stability  statement    strong  submitted  subscribe  substantial   success  suspended  sustainable      swap    swaps  syndicate     taken   taking      term   throws     time     told   trading   tuesday    tunnel  uncertainty   unpaid    urged    wants  warrants      week     weeks    widely    wiping      work  wrangling  wrestled     year     years\n",
            "f3.txt  0.077873  0.038936  0.000000  0.038936  0.000000  0.00000  0.038936  0.038936  0.00000  0.038936  0.00000  0.077873  0.050138  0.038936  0.038936  0.00000  0.038936  0.038936  0.050138  0.050138  0.00000  0.00000  0.038936    0.050138      0.050138  0.038936  0.00000   0.00000  0.00000  0.038936  0.038936  0.038936  0.077873  0.00000   0.00000  0.038936  0.00000   0.077873      0.077873  0.00000  0.038936   0.00000  0.00000    0.00000   0.00000  0.038936  0.038936     0.00000  0.155746  0.050138  0.233619  0.00000  0.038936  0.077873  0.038936  0.00000  0.050138  0.00000  0.00000  0.077873  0.077873  0.038936   0.00000  0.00000    0.038936   0.038936  0.311492  0.00000    0.050138     0.00000      0.038936      0.038936     0.038936     0.00000      0.038936   0.038936  0.00000  0.038936    0.00000   0.038936  0.038936  0.00000  0.050138  0.116809  0.194682  0.00000  0.038936       0.00000  0.00000  0.038936  0.038936    0.00000  0.038936  0.038936   0.00000  0.00000  0.038936  0.077873   0.038936  0.038936  0.038936    0.428301  0.038936  0.050138  0.038936  0.038936  0.00000   0.077873  0.038936  0.00000  0.00000  0.050138  0.00000  0.00000  0.00000  0.038936  0.038936  0.077873  0.038936  0.00000  0.038936  0.00000  0.00000  0.00000  0.038936  0.00000  0.00000  0.00000  0.038936  0.050138   0.00000  0.00000    0.00000    0.050138     0.050138     0.038936   0.077873     0.00000  0.038936  0.038936  0.050138  0.050138  0.038936  0.038936   0.00000  0.00000  0.077873  0.038936  0.00000  0.00000  0.038936  0.038936  0.00000  0.00000  0.038936  0.00000  0.050138  0.000000  0.116809  0.077873  0.038936  0.065925  0.038936    0.038936      0.050138  0.038936  0.00000  0.000000  0.038936   0.038936    0.038936  0.038936     0.050138  0.050138  0.038936  0.038936     0.038936  0.038936  0.038936  0.038936  0.038936  0.116809  0.116809     0.038936    0.00000  0.116809  0.038936   0.00000  0.050138  0.155746  0.00000  0.038936  0.038936  0.038936  0.038936  0.050138  0.077873  0.038936  0.00000  0.038936    0.00000       0.116809  0.038936  0.038936  0.00000  0.00000  0.00000  0.050138  0.311492   0.00000   0.050138  0.00000  0.00000  0.00000  0.038936      0.233619  0.077873        0.038936  0.00000        0.00000   0.038936   0.050138  0.038936   0.038936   0.038936     0.050138  0.050138   0.038936      0.00000  0.038936  0.00000   0.050138  0.038936  0.00000  0.038936  0.00000  0.00000  0.00000  0.038936  0.038936  0.077873     0.038936  0.00000  0.00000  0.00000  0.038936  0.077873  0.050138  0.038936  0.038936  0.038936   0.050138  0.038936  0.00000  0.038936\n",
            "f1.txt  0.057916  0.028958  0.000000  0.028958  0.000000  0.04903  0.028958  0.028958  0.04903  0.028958  0.04903  0.028958  0.000000  0.028958  0.028958  0.09806  0.028958  0.028958  0.000000  0.037289  0.04903  0.04903  0.057916    0.000000      0.000000  0.028958  0.04903   0.04903  0.04903  0.057916  0.028958  0.028958  0.028958  0.04903   0.04903  0.028958  0.04903   0.057916      0.028958  0.04903  0.057916   0.04903  0.04903    0.04903   0.04903  0.028958  0.086874     0.04903  0.115832  0.000000  0.144790  0.04903  0.028958  0.028958  0.028958  0.04903  0.000000  0.04903  0.09806  0.057916  0.057916  0.028958   0.04903  0.09806    0.028958   0.028958  0.318538  0.04903    0.000000     0.09806      0.028958      0.028958     0.028958     0.04903      0.028958   0.028958  0.04903  0.028958    0.04903   0.028958  0.028958  0.09806  0.000000  0.202706  0.173748  0.04903  0.028958       0.04903  0.04903  0.057916  0.028958    0.04903  0.028958  0.057916   0.04903  0.04903  0.086874  0.028958   0.028958  0.057916  0.028958    0.289580  0.028958  0.000000  0.028958  0.028958  0.04903   0.057916  0.028958  0.04903  0.04903  0.000000  0.04903  0.04903  0.04903  0.028958  0.028958  0.057916  0.057916  0.04903  0.028958  0.04903  0.04903  0.04903  0.028958  0.04903  0.04903  0.04903  0.028958  0.000000   0.04903  0.04903    0.04903    0.000000     0.000000     0.028958   0.028958     0.09806  0.086874  0.028958  0.000000  0.000000  0.028958  0.028958   0.04903  0.04903  0.028958  0.028958  0.04903  0.04903  0.028958  0.028958  0.04903  0.04903  0.028958  0.04903  0.000000  0.147091  0.057916  0.028958  0.115832  0.000000  0.057916    0.028958      0.000000  0.028958  0.09806  0.147091  0.028958   0.028958    0.028958  0.028958     0.000000  0.000000  0.028958  0.057916     0.028958  0.028958  0.028958  0.086874  0.057916  0.086874  0.086874     0.028958    0.04903  0.057916  0.028958   0.04903  0.037289  0.202706  0.04903  0.028958  0.028958  0.028958  0.028958  0.000000  0.028958  0.028958  0.04903  0.028958    0.09806       0.028958  0.028958  0.028958  0.04903  0.04903  0.04903  0.037289  0.260622   0.04903   0.000000  0.04903  0.04903  0.04903  0.028958      0.202706  0.028958        0.028958  0.04903        0.09806   0.028958   0.037289  0.028958   0.028958   0.028958     0.000000  0.000000   0.028958      0.04903  0.028958  0.04903   0.000000  0.028958  0.04903  0.028958  0.04903  0.04903  0.09806  0.028958  0.028958  0.057916     0.028958  0.04903  0.04903  0.09806  0.028958  0.028958  0.000000  0.028958  0.028958  0.028958   0.000000  0.028958  0.04903  0.144790\n",
            "f2.txt  0.074032  0.037016  0.062674  0.037016  0.062674  0.00000  0.037016  0.037016  0.00000  0.037016  0.00000  0.074032  0.047665  0.037016  0.037016  0.00000  0.037016  0.037016  0.095330  0.000000  0.00000  0.00000  0.037016    0.047665      0.047665  0.037016  0.00000   0.00000  0.00000  0.037016  0.037016  0.037016  0.074032  0.00000   0.00000  0.037016  0.00000   0.074032      0.111049  0.00000  0.037016   0.00000  0.00000    0.00000   0.00000  0.037016  0.037016     0.00000  0.148065  0.047665  0.370162  0.00000  0.037016  0.074032  0.037016  0.00000  0.047665  0.00000  0.00000  0.074032  0.074032  0.037016   0.00000  0.00000    0.037016   0.037016  0.296130  0.00000    0.047665     0.00000      0.037016      0.037016     0.037016     0.00000      0.037016   0.037016  0.00000  0.037016    0.00000   0.037016  0.037016  0.00000  0.047665  0.111049  0.185081  0.00000  0.037016       0.00000  0.00000  0.037016  0.037016    0.00000  0.037016  0.037016   0.00000  0.00000  0.037016  0.074032   0.037016  0.037016  0.037016    0.407179  0.037016  0.047665  0.037016  0.037016  0.00000   0.074032  0.037016  0.00000  0.00000  0.047665  0.00000  0.00000  0.00000  0.037016  0.037016  0.074032  0.037016  0.00000  0.037016  0.00000  0.00000  0.00000  0.037016  0.00000  0.00000  0.00000  0.037016  0.047665   0.00000  0.00000    0.00000    0.047665     0.047665     0.037016   0.074032     0.00000  0.037016  0.037016  0.047665  0.047665  0.037016  0.037016   0.00000  0.00000  0.074032  0.037016  0.00000  0.00000  0.037016  0.037016  0.00000  0.00000  0.037016  0.00000  0.047665  0.000000  0.111049  0.074032  0.037016  0.000000  0.037016    0.037016      0.047665  0.037016  0.00000  0.000000  0.037016   0.037016    0.037016  0.037016     0.047665  0.047665  0.037016  0.037016     0.037016  0.037016  0.037016  0.037016  0.037016  0.111049  0.111049     0.037016    0.00000  0.111049  0.037016   0.00000  0.000000  0.148065  0.00000  0.037016  0.037016  0.037016  0.037016  0.047665  0.074032  0.037016  0.00000  0.037016    0.00000       0.111049  0.037016  0.037016  0.00000  0.00000  0.00000  0.000000  0.296130   0.00000   0.047665  0.00000  0.00000  0.00000  0.037016      0.222097  0.074032        0.037016  0.00000        0.00000   0.037016   0.000000  0.037016   0.037016   0.037016     0.047665  0.047665   0.037016      0.00000  0.037016  0.00000   0.047665  0.037016  0.00000  0.037016  0.00000  0.00000  0.00000  0.037016  0.037016  0.074032     0.037016  0.00000  0.00000  0.00000  0.037016  0.074032  0.047665  0.037016  0.037016  0.037016   0.047665  0.037016  0.00000  0.037016\n",
            "============================\n",
            "\n",
            "\n",
            "\n",
            "\n",
            "========COSINE SIMILARITY====================================================================\n",
            "\n",
            "          f3.txt    f1.txt    f2.txt\n",
            "f3.txt  1.000000  0.738113  0.976856\n",
            "f1.txt  0.738113  1.000000  0.717113\n",
            "f2.txt  0.976856  0.717113  1.000000\n",
            "\n",
            "=============================================================================================\n",
            "\n"
          ]
        }
      ],
      "source": [
        "main()"
      ]
    }
  ],
  "metadata": {
    "kernelspec": {
      "display_name": "Python 3",
      "language": "python",
      "name": "python3"
    },
    "language_info": {
      "codemirror_mode": {
        "name": "ipython",
        "version": 3
      },
      "file_extension": ".py",
      "mimetype": "text/x-python",
      "name": "python",
      "nbconvert_exporter": "python",
      "pygments_lexer": "ipython3",
      "version": "3.6.1"
    },
    "colab": {
      "provenance": []
    }
  },
  "nbformat": 4,
  "nbformat_minor": 0
}